{
 "cells": [
  {
   "cell_type": "code",
   "execution_count": 59,
   "metadata": {},
   "outputs": [],
   "source": [
    "library(scDDboost)\n",
    "library(Seurat)\n",
    "library(vcd)"
   ]
  },
  {
   "cell_type": "code",
   "execution_count": 2,
   "metadata": {},
   "outputs": [],
   "source": [
    "## first check GSE74596\n",
    "\n",
    "load(\"~/empirical_data/GSE74596.RData\")"
   ]
  },
  {
   "cell_type": "code",
   "execution_count": 3,
   "metadata": {},
   "outputs": [
    {
     "data": {
      "text/plain": [
       "cd\n",
       " 1  2 \n",
       "46 68 "
      ]
     },
     "metadata": {},
     "output_type": "display_data"
    }
   ],
   "source": [
    "table(cd)"
   ]
  },
  {
   "cell_type": "code",
   "execution_count": 9,
   "metadata": {},
   "outputs": [
    {
     "data": {
      "text/html": [
       "7"
      ],
      "text/latex": [
       "7"
      ],
      "text/markdown": [
       "7"
      ],
      "text/plain": [
       "[1] 7"
      ]
     },
     "metadata": {},
     "output_type": "display_data"
    }
   ],
   "source": [
    "detK(D_c)"
   ]
  },
  {
   "cell_type": "code",
   "execution_count": 20,
   "metadata": {},
   "outputs": [
    {
     "data": {
      "text/html": [
       "3521"
      ],
      "text/latex": [
       "3521"
      ],
      "text/markdown": [
       "3521"
      ],
      "text/plain": [
       "[1] 3521"
      ]
     },
     "metadata": {},
     "output_type": "display_data"
    }
   ],
   "source": [
    "listsize(newPDD)"
   ]
  },
  {
   "cell_type": "code",
   "execution_count": 17,
   "metadata": {
    "scrolled": true
   },
   "outputs": [
    {
     "data": {
      "text/html": [
       "2561"
      ],
      "text/latex": [
       "2561"
      ],
      "text/markdown": [
       "2561"
      ],
      "text/plain": [
       "[1] 2561"
      ]
     },
     "metadata": {},
     "output_type": "display_data"
    }
   ],
   "source": [
    "length(which(res_des$padj < 0.05))"
   ]
  },
  {
   "cell_type": "code",
   "execution_count": 22,
   "metadata": {
    "scrolled": true
   },
   "outputs": [],
   "source": [
    "ccl = pam(D_c,diss = T, k = 7, cluster.only = T)"
   ]
  },
  {
   "cell_type": "code",
   "execution_count": 41,
   "metadata": {},
   "outputs": [
    {
     "data": {
      "text/plain": [
       "\n",
       " 1  2  3  4  5  6 \n",
       "20 25 25 15 15 14 "
      ]
     },
     "metadata": {},
     "output_type": "display_data"
    }
   ],
   "source": [
    "table(pam(D_c,diss = T, k = 6, cluster.only = T))"
   ]
  },
  {
   "cell_type": "code",
   "execution_count": 24,
   "metadata": {},
   "outputs": [
    {
     "data": {
      "text/plain": [
       "ccl\n",
       " 1  2  3  4  5  6  7 \n",
       "20 24 25 15 15 14  1 "
      ]
     },
     "metadata": {},
     "output_type": "display_data"
    }
   ],
   "source": [
    "table(ccl)"
   ]
  },
  {
   "cell_type": "code",
   "execution_count": 25,
   "metadata": {},
   "outputs": [
    {
     "data": {
      "text/html": [
       "<strong>GSM1923623_NKT2High_SCT9_N0517_N0710_W32_MappedReads_Annotations.txt:</strong> 90"
      ],
      "text/latex": [
       "\\textbf{GSM1923623\\textbackslash{}\\_NKT2High\\textbackslash{}\\_SCT9\\textbackslash{}\\_N0517\\textbackslash{}\\_N0710\\textbackslash{}\\_W32\\textbackslash{}\\_MappedReads\\textbackslash{}\\_Annotations.txt:} 90"
      ],
      "text/markdown": [
       "**GSM1923623_NKT2High_SCT9_N0517_N0710_W32_MappedReads_Annotations.txt:** 90"
      ],
      "text/plain": [
       "GSM1923623_NKT2High_SCT9_N0517_N0710_W32_MappedReads_Annotations.txt \n",
       "                                                                  90 "
      ]
     },
     "metadata": {},
     "output_type": "display_data"
    }
   ],
   "source": [
    "which(ccl == 7)"
   ]
  },
  {
   "cell_type": "code",
   "execution_count": 28,
   "metadata": {},
   "outputs": [],
   "source": [
    "totalCounts = colSums(data_counts)"
   ]
  },
  {
   "cell_type": "code",
   "execution_count": 30,
   "metadata": {},
   "outputs": [
    {
     "data": {
      "text/html": [
       "<strong>GSM1923623_NKT2High_SCT9_N0517_N0710_W32_MappedReads_Annotations.txt:</strong> 5316375"
      ],
      "text/latex": [
       "\\textbf{GSM1923623\\textbackslash{}\\_NKT2High\\textbackslash{}\\_SCT9\\textbackslash{}\\_N0517\\textbackslash{}\\_N0710\\textbackslash{}\\_W32\\textbackslash{}\\_MappedReads\\textbackslash{}\\_Annotations.txt:} 5316375"
      ],
      "text/markdown": [
       "**GSM1923623_NKT2High_SCT9_N0517_N0710_W32_MappedReads_Annotations.txt:** 5316375"
      ],
      "text/plain": [
       "GSM1923623_NKT2High_SCT9_N0517_N0710_W32_MappedReads_Annotations.txt \n",
       "                                                             5316375 "
      ]
     },
     "metadata": {},
     "output_type": "display_data"
    }
   ],
   "source": [
    "totalCounts[90]"
   ]
  },
  {
   "cell_type": "code",
   "execution_count": 34,
   "metadata": {},
   "outputs": [
    {
     "data": {
      "text/html": [
       "<strong>GSM1923622_NKT2High_SCT9_N0508_N0712_W47_MappedReads_Annotations.txt:</strong> 3832223"
      ],
      "text/latex": [
       "\\textbf{GSM1923622\\textbackslash{}\\_NKT2High\\textbackslash{}\\_SCT9\\textbackslash{}\\_N0508\\textbackslash{}\\_N0712\\textbackslash{}\\_W47\\textbackslash{}\\_MappedReads\\textbackslash{}\\_Annotations.txt:} 3832223"
      ],
      "text/markdown": [
       "**GSM1923622_NKT2High_SCT9_N0508_N0712_W47_MappedReads_Annotations.txt:** 3832223"
      ],
      "text/plain": [
       "GSM1923622_NKT2High_SCT9_N0508_N0712_W47_MappedReads_Annotations.txt \n",
       "                                                             3832223 "
      ]
     },
     "metadata": {},
     "output_type": "display_data"
    }
   ],
   "source": [
    "totalCounts[89]"
   ]
  },
  {
   "cell_type": "code",
   "execution_count": 38,
   "metadata": {
    "scrolled": true
   },
   "outputs": [
    {
     "name": "stderr",
     "output_type": "stream",
     "text": [
      "Centering and scaling data matrix\n",
      "PC_ 1 \n",
      "Positive:  Stmn1, 2810417H13Rik, Birc5, Tuba1b, Top2a, Kpna2, Cdk1, Cdca8, Prc1, Tacc3 \n",
      "\t   Plk1, Cks1b, Tk1, Ccnb1, Ncaph, Hmgb2, Rrm1, Spc25, Smc2, Rrm2 \n",
      "\t   Cdca3, Nusap1, Asf1b, H2afz, Ube2c, Pbk, Ccna2, Tyms, Prim1, Ckap2l \n",
      "Negative:  Nkg7, AW112010, Malat1, H2-K1, Klrb1c, Cd7, Id2, Rn45s, Klrd1, Ms4a4b \n",
      "\t   Gimap3, Xcl1, Ly6c2, Lpar6, Btg1, Klrk1, Gzmb, Fasl, Slamf7, Ifngr1 \n",
      "\t   Rgs1, Gimap6, Stat4, Hsd11b1, Cxcr3, Il2rb, Fcer1g, Fgl2, Lrrk1, Pglyrp1 \n",
      "PC_ 2 \n",
      "Positive:  Asf1b, Rrm2, Spc25, Prc1, Ccna2, Nusap1, Birc5, 2810417H13Rik, Esco2, Cdk1 \n",
      "\t   Hist1h1b, Top2a, Kif20a, Cdca3, Mis18bp1, Pbk, Kif22, Plk1, Ckap2l, Tk1 \n",
      "\t   Aurkb, Cdca5, Tyms, Cdca8, Kif11, Smc2, Ncaph, Ndc80, Ube2c, Aurka \n",
      "Negative:  Tox, Supt3h, Zbtb48, Nucb2, Sox4, Msra, Nt5e, 2310037I24Rik, Tcn2, Vwa5a \n",
      "\t   Nsun2, Erap1, Myo1e, C330006K01Rik, Derl3, Matk, Pdcd1, Bod1, Cntnap1, Tnip2 \n",
      "\t   Ptpn7, Mll2, 0610007L01Rik, Uba7, Trim36, Thumpd1, Sec16a, Gadl1, Plac8, Crat \n",
      "PC_ 3 \n",
      "Positive:  Ogfod2, Slc2a3, Clec16a, Rgs14, Klri2, Shc1, Prdm1, Rad9, Appl1, Atat1 \n",
      "\t   Fpgt, F8, Txnip, 2700050L05Rik, Lyn, Rps6ka4, Pip5k1c, Setd1a, Amica1, Sec24d \n",
      "\t   Wdr92, Rab3ip, Xcl1, Gcap14, Strn4, Foxj3, Mul1, Eprs, Tbl1x, Mterfd1 \n",
      "Negative:  Ifi27l2a, Phgdh, Hsp90ab1, Psma6, Psmd12, Rad51l3, Naga, Tnfrsf22, Plac8, Zfp260 \n",
      "\t   Tmem11, Slc30a5, Mcm6, Prkar2b, Zc3h12d, Ntrk3, Cct5, Smyd2, Npc1, Uqcrfs1 \n",
      "\t   Mprip, Lap3, Smurf2, Ptdss1, Creb3l1, Rsl1d1, Cdc26, Casd1, Kcnn4, Ipmk \n",
      "PC_ 4 \n",
      "Positive:  Zfp955b, Ccdc137, Mst1, Zbtb4, Mapk7, Arhgap26, A2ld1, Zfp84, Klhl25, Huwe1 \n",
      "\t   Nudt18, Gtf2a1, Zdhhc7, Dip2b, Tcn2, Cant1, Pde2a, Atpbd4, Armc10, Gatc \n",
      "\t   Slc7a6os, Skiv2l, Chpf2, Ccdc101, Ubox5, Mtr, Pofut2, Tgs1, Aagab, 9430015G10Rik \n",
      "Negative:  Akt1, Ado, Frs2, Rock2, Bbc3, AI597479, Rlf, Fbxw4, Thap1, Stat5a \n",
      "\t   Mavs, Pcca, 9430016H08Rik, Zfp287, Trmt2b, Hdac8, 4933424B01Rik, 5730419I09Rik, Oma1, Reep3 \n",
      "\t   Fam174b, Slc15a4, Pstpip1, Ccny, Pum1, Man1a2, Plbd2, Xpo7, C330007P06Rik, Wdsub1 \n",
      "PC_ 5 \n",
      "Positive:  Fpgt, C2cd2l, Mgat1, Lat2, AI597479, Lrrk1, Mavs, Hmgb1, Hsd11b1, Frs2 \n",
      "\t   Thap1, Gem, Icam1, Cblb, Numa1, Rbbp6, Klrd1, Mapk7, Dopey2, Bbc3 \n",
      "\t   Ado, Hdac8, Atp5s, Fbxw4, Ubox5, 4933424B01Rik, Zfp287, Ccdc137, Zbtb4, Susd3 \n",
      "Negative:  Clec16a, F8, Atat1, 2700050L05Rik, Lyn, Prdm1, Rab3ip, Setd1a, Naglu, Mul1 \n",
      "\t   Pcbp4, B230206F22Rik, Bdh1, Sec24d, Rps6ka4, Coq10b, Cops7b, Strn4, Gcap14, Klri2 \n",
      "\t   Itfg3, Dgat1, Lyrm5, Zfp748, Mllt11, Iqcc, Flywch1, Lpin2, 1600012H06Rik, Slc38a1 \n"
     ]
    }
   ],
   "source": [
    "obs <- CreateSeuratObject(data_counts, project = \"obs\")\n",
    "\n",
    "Idents(obs) <- ccl\n",
    "\n",
    "obs <- NormalizeData(obs)\n",
    "\n",
    "obs <- FindVariableFeatures(obs)\n",
    "\n",
    "obs <- ScaleData(obs)\n",
    "\n",
    "obs <- RunPCA(obs, pc.genes = obs@var.genes, do.print = FALSE,  pcs.compute = 50)"
   ]
  },
  {
   "cell_type": "code",
   "execution_count": 39,
   "metadata": {},
   "outputs": [
    {
     "name": "stderr",
     "output_type": "stream",
     "text": [
      "Warning message:\n",
      "“The default method for RunUMAP has changed from calling Python UMAP via reticulate to the R-native UWOT using the cosine metric\n",
      "To use Python UMAP via reticulate, set umap.method to 'umap-learn' and metric to 'correlation'\n",
      "This message will be shown once per session”10:59:57 UMAP embedding parameters a = 0.9922 b = 1.112\n",
      "10:59:57 Read 114 rows and found 10 numeric columns\n",
      "10:59:57 Using Annoy for neighbor search, n_neighbors = 30\n",
      "10:59:57 Building Annoy index with metric = cosine, n_trees = 50\n",
      "0%   10   20   30   40   50   60   70   80   90   100%\n",
      "[----|----|----|----|----|----|----|----|----|----|\n",
      "**************************************************|\n",
      "10:59:58 Writing NN index file to temp file /tmp/RtmpoSeu6I/file1aa6a3395d9d65\n",
      "10:59:58 Searching Annoy index using 1 thread, search_k = 3000\n",
      "10:59:58 Annoy recall = 100%\n",
      "10:59:59 Commencing smooth kNN distance calibration using 1 thread\n",
      "11:00:00 Initializing from normalized Laplacian + noise\n",
      "11:00:00 Commencing optimization for 500 epochs, with 3928 positive edges\n",
      "11:00:01 Optimization finished\n"
     ]
    }
   ],
   "source": [
    "obs <- RunUMAP(obs,dims = 1:10)"
   ]
  },
  {
   "cell_type": "code",
   "execution_count": 40,
   "metadata": {},
   "outputs": [
    {
     "data": {
      "image/png": "[encoded data removed]",
      "text/plain": [
       "plot without title"
      ]
     },
     "metadata": {},
     "output_type": "display_data"
    }
   ],
   "source": [
    "DimPlot(obs, reduction = \"umap\")"
   ]
  },
  {
   "cell_type": "code",
   "execution_count": 45,
   "metadata": {},
   "outputs": [],
   "source": [
    "Means = list()\n",
    "\n",
    "for(i in 1:6){\n",
    "    tmp = which(ccl == i)\n",
    "    Means[[i]] = rowMeans(data_counts[,tmp])\n",
    "}\n"
   ]
  },
  {
   "cell_type": "code",
   "execution_count": 46,
   "metadata": {},
   "outputs": [],
   "source": [
    "SingleGroup = data_counts[,which(ccl == 7)]"
   ]
  },
  {
   "cell_type": "code",
   "execution_count": 182,
   "metadata": {},
   "outputs": [],
   "source": [
    "tmp = Group[2,]\n",
    "\n",
    "### bin 0,1,2,3,4 and >= 5\n",
    "\n",
    "LogL <- function(param,x){\n",
    "    res = 0\n",
    "    r = param[1]\n",
    "    p = param[2]\n",
    "    for(i in 1:5){\n",
    "        res = res + log(dnbinom(i - 1,size = r, prob = p)) * x[i]\n",
    "    }\n",
    "    res = res  + log( 1 - pnbinom(4,size = r, prob = p)) * x[6]\n",
    "    \n",
    "    return(-res)\n",
    "}\n",
    "\n",
    "gof <- function(X){\n",
    "obs = rep(NA,6)\n",
    "for(i in 1:5){\n",
    "    obs[i] = length(which(X == (i - 1)))\n",
    "}\n",
    "obs[6] = length(which(X >=5))\n",
    "\n",
    "fit = nlminb(start(1,0.1),objective = LogL,x = obs, lower = c(0.01,0.01), upper = c(1000,0.99))\n",
    "\n",
    "r = fit$par[1]\n",
    "p = fit$par[2]\n",
    "\n",
    "exp = rep(NA,6)\n",
    "nc = sum(obs)\n",
    "for(i in 1:5){\n",
    "    exp[i] = dnbinom(i - 1,size = r, prob = p) * nc\n",
    "}\n",
    "exp[6] = (1 - pnbinom(4,size = r, prob = p)) * nc\n",
    "\n",
    "\n",
    "CHI = sum((obs - exp)^2 / exp)\n",
    "\n",
    "df = nc - 2\n",
    "\n",
    "    result = list()\n",
    "    result$r = r\n",
    "    result$p = p\n",
    "    result$pv = 1- pchisq(CHI,df = df)\n",
    "return(result)\n",
    "    \n",
    "    }"
   ]
  },
  {
   "cell_type": "code",
   "execution_count": 183,
   "metadata": {},
   "outputs": [],
   "source": [
    "R = list()"
   ]
  },
  {
   "cell_type": "code",
   "execution_count": 213,
   "metadata": {},
   "outputs": [],
   "source": [
    "ii = 1\n",
    "Group = data_counts[,which(ccl == ii)] \n",
    "\n",
    "G = nrow(Group)\n",
    "\n",
    "nc = ncol(Group)\n",
    "\n",
    "pv = rep(NA,G)\n",
    "\n",
    "tmpr = rep(NA,G)\n",
    "\n",
    "for(i in 1:G){\n",
    "    tmp = Group[i,]\n",
    "    m = mean(tmp)\n",
    "    \n",
    "    if(m > 0.001){\n",
    "        tmpr[i] = gof(tmp)$r\n",
    "    }\n",
    "}\n",
    "\n",
    "R[[ii]] = tmpr"
   ]
  },
  {
   "cell_type": "code",
   "execution_count": 214,
   "metadata": {},
   "outputs": [],
   "source": [
    "r1 = R[[1]]\n",
    "r2 = R[[2]]\n",
    "\n",
    "valid = intersect(which(!is.na(r1)), which(!is.na(r2)))"
   ]
  },
  {
   "cell_type": "code",
   "execution_count": 221,
   "metadata": {},
   "outputs": [],
   "source": [
    "diff = 1 - r1[valid] / r2[valid]\n"
   ]
  },
  {
   "cell_type": "code",
   "execution_count": 224,
   "metadata": {},
   "outputs": [
    {
     "data": {
      "text/html": [
       "1340"
      ],
      "text/latex": [
       "1340"
      ],
      "text/markdown": [
       "1340"
      ],
      "text/plain": [
       "[1] 1340"
      ]
     },
     "metadata": {},
     "output_type": "display_data"
    }
   ],
   "source": [
    "length(which(abs(diff) > 5))"
   ]
  },
  {
   "cell_type": "code",
   "execution_count": 225,
   "metadata": {},
   "outputs": [
    {
     "data": {
      "text/html": [
       "7808"
      ],
      "text/latex": [
       "7808"
      ],
      "text/markdown": [
       "7808"
      ],
      "text/plain": [
       "[1] 7808"
      ]
     },
     "metadata": {},
     "output_type": "display_data"
    }
   ],
   "source": [
    "length(which(abs(diff) <= 5))"
   ]
  },
  {
   "cell_type": "code",
   "execution_count": 222,
   "metadata": {},
   "outputs": [
    {
     "data": {
      "text/html": [
       "<dl class=dl-horizontal>\n",
       "\t<dt>0%</dt>\n",
       "\t\t<dd>-1988.9832248895</dd>\n",
       "\t<dt>25%</dt>\n",
       "\t\t<dd>-1.61568039848886</dd>\n",
       "\t<dt>50%</dt>\n",
       "\t\t<dd>-0.0740256240367836</dd>\n",
       "\t<dt>75%</dt>\n",
       "\t\t<dd>0.505500168203554</dd>\n",
       "\t<dt>100%</dt>\n",
       "\t\t<dd>0.999726869737486</dd>\n",
       "</dl>\n"
      ],
      "text/latex": [
       "\\begin{description*}\n",
       "\\item[0\\textbackslash{}\\%] -1988.9832248895\n",
       "\\item[25\\textbackslash{}\\%] -1.61568039848886\n",
       "\\item[50\\textbackslash{}\\%] -0.0740256240367836\n",
       "\\item[75\\textbackslash{}\\%] 0.505500168203554\n",
       "\\item[100\\textbackslash{}\\%] 0.999726869737486\n",
       "\\end{description*}\n"
      ],
      "text/markdown": [
       "0%\n",
       ":   -1988.983224889525%\n",
       ":   -1.6156803984888650%\n",
       ":   -0.074025624036783675%\n",
       ":   0.505500168203554100%\n",
       ":   0.999726869737486\n",
       "\n"
      ],
      "text/plain": [
       "           0%           25%           50%           75%          100% \n",
       "-1.988983e+03 -1.615680e+00 -7.402562e-02  5.055002e-01  9.997269e-01 "
      ]
     },
     "metadata": {},
     "output_type": "display_data"
    }
   ],
   "source": [
    "quantile(diff)"
   ]
  },
  {
   "cell_type": "code",
   "execution_count": 223,
   "metadata": {},
   "outputs": [
    {
     "data": {
      "image/png": "[encoded data removed]",
      "text/plain": [
       "Plot with title “Histogram of diff”"
      ]
     },
     "metadata": {},
     "output_type": "display_data"
    }
   ],
   "source": [
    "hist(diff)"
   ]
  },
  {
   "cell_type": "code",
   "execution_count": null,
   "metadata": {},
   "outputs": [],
   "source": []
  }
 ],
 "metadata": {
  "kernelspec": {
   "display_name": "R",
   "language": "R",
   "name": "ir"
  },
  "language_info": {
   "codemirror_mode": "r",
   "file_extension": ".r",
   "mimetype": "text/x-r-source",
   "name": "R",
   "pygments_lexer": "r",
   "version": "3.5.1"
  }
 },
 "nbformat": 4,
 "nbformat_minor": 2
}
